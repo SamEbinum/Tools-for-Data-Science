{
 "cells": [
  {
   "cell_type": "markdown",
   "id": "e32dd1e3-91aa-4dff-baa3-a91e98a6583c",
   "metadata": {
    "tags": []
   },
   "source": [
    " <h1> Data Science Tools and Ecosystem <h1>"
   ]
  },
  {
   "cell_type": "markdown",
   "id": "953b4520-bf9d-4996-858d-56bccab674a0",
   "metadata": {},
   "source": [
    "## In this book, Data Science Tools and Ecosystem are Summarized"
   ]
  },
  {
   "cell_type": "markdown",
   "id": "7d652918-51c6-4da1-8bb1-937ffe37ddd9",
   "metadata": {},
   "source": [
    "Some of the popular languages the Data scientist use are:\n",
    "\n",
    "1. Python\n",
    "2. R\n",
    "3. julia"
   ]
  },
  {
   "cell_type": "markdown",
   "id": "6049786c-f44e-409b-9709-7f4cd9eef43d",
   "metadata": {},
   "source": [
    "Some of the commonly used libraries used by Data scientist include:\n",
    "\n",
    "1. Pandas\n",
    "2. Numpy\n",
    "3. Matplotlib\n",
    "4. Beautiful soup\n"
   ]
  },
  {
   "cell_type": "markdown",
   "id": "4a6e1461-1b12-4219-ac09-5d7db5b3e68c",
   "metadata": {},
   "source": [
    "| Data Science Tools |\n",
    "|--------------------|\n",
    "| R studio |\n",
    "| Julia |\n",
    "| Jupyter |\n"
   ]
  },
  {
   "cell_type": "markdown",
   "id": "6cded869-a748-4e35-9b8c-a10f2e544637",
   "metadata": {},
   "source": [
    "<h3> Below are a few examples of evaluating arithmetic expressions in python </h3>"
   ]
  },
  {
   "cell_type": "code",
   "execution_count": 1,
   "id": "b8542316-76d7-426a-9d7f-c53b6c6cd156",
   "metadata": {},
   "outputs": [
    {
     "data": {
      "text/plain": [
       "17"
      ]
     },
     "execution_count": 1,
     "metadata": {},
     "output_type": "execute_result"
    }
   ],
   "source": [
    "# This is a simple arithmetic expression to multiply then add integers\n",
    "(3*4)+5"
   ]
  },
  {
   "cell_type": "code",
   "execution_count": 2,
   "id": "9de05db5-9619-4e4c-a298-46b7cada8066",
   "metadata": {},
   "outputs": [
    {
     "data": {
      "text/plain": [
       "3.3333333333333335"
      ]
     },
     "execution_count": 2,
     "metadata": {},
     "output_type": "execute_result"
    }
   ],
   "source": [
    "# This will convert 200 minutes to hours\n",
    "\n",
    "200/60"
   ]
  },
  {
   "cell_type": "markdown",
   "id": "5550eed7-eed0-4362-a8ad-f5cfaa449ae9",
   "metadata": {},
   "source": [
    "**Objectives** \n",
    "\n",
    "* List popular languages for data science\n",
    "* Create a code to convert minutes to hours\n",
    "* Commonly used libraries for Data Scientist\n"
   ]
  },
  {
   "cell_type": "markdown",
   "id": "c84dd416-7905-4011-8e53-3ec89b26b5aa",
   "metadata": {},
   "source": [
    "<h2> Author </h2>\n",
    "Ebinum Samuel"
   ]
  },
  {
   "cell_type": "code",
   "execution_count": null,
   "id": "f0571751-2e79-4161-97e6-c02b9cd50c66",
   "metadata": {},
   "outputs": [],
   "source": []
  }
 ],
 "metadata": {
  "kernelspec": {
   "display_name": "Python",
   "language": "python",
   "name": "conda-env-python-py"
  },
  "language_info": {
   "codemirror_mode": {
    "name": "ipython",
    "version": 3
   },
   "file_extension": ".py",
   "mimetype": "text/x-python",
   "name": "python",
   "nbconvert_exporter": "python",
   "pygments_lexer": "ipython3",
   "version": "3.7.12"
  }
 },
 "nbformat": 4,
 "nbformat_minor": 5
}
